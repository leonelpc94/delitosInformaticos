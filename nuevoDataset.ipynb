{
 "cells": [
  {
   "cell_type": "code",
   "execution_count": null,
   "metadata": {},
   "outputs": [
    {
     "ename": "",
     "evalue": "",
     "output_type": "error",
     "traceback": [
      "\u001b[1;31mRunning cells with 'Python 3.12.3' requires the ipykernel package.\n",
      "\u001b[1;31mRun the following command to install 'ipykernel' into the Python environment. \n",
      "\u001b[1;31mCommand: '/bin/python3 -m pip install ipykernel -U --user --force-reinstall'"
     ]
    }
   ],
   "source": [
    "import numpy as np\n",
    "import pandas as pd\n",
    "\n",
    "dataset = pd.read_csv(\"datasetInfo.csv\")\n",
    "dataset"
   ]
  },
  {
   "cell_type": "code",
   "execution_count": 33,
   "metadata": {},
   "outputs": [],
   "source": [
    "#separar los datos por año\n",
    "anio20 = dataset[dataset[\"AÑO_HECHOS\"]==2020]\n",
    "anio21 = dataset[dataset[\"AÑO_HECHOS\"]==2021]\n",
    "anio22 = dataset[dataset[\"AÑO_HECHOS\"]==2022]\n",
    "anio23 = dataset[dataset[\"AÑO_HECHOS\"]==2023]\n",
    "#Eliminar columnas del dataset que no se utilizaran en este caso, para eso la funcion drop()\n",
    "anio20 = anio20.drop(columns=[\"ES_PRECLUSIÓN\",\"MUNICIPIO_HECHO\",\"AÑO_ENTRADA\",\"AÑO_DENUNCIA\"])\n",
    "anio21 = anio21.drop(columns=[\"ES_PRECLUSIÓN\",\"MUNICIPIO_HECHO\",\"AÑO_ENTRADA\",\"AÑO_DENUNCIA\"])\n",
    "anio22 = anio22.drop(columns=[\"ES_PRECLUSIÓN\",\"MUNICIPIO_HECHO\",\"AÑO_ENTRADA\",\"AÑO_DENUNCIA\"])\n",
    "anio23 = anio23.drop(columns=[\"ES_PRECLUSIÓN\",\"MUNICIPIO_HECHO\",\"AÑO_ENTRADA\",\"AÑO_DENUNCIA\"])\n",
    "#Crear los 4 dataset distribuidos por año\n",
    "anio20.to_csv(\"datasetBrutoAño/dataset2020.csv\",index=False)\n",
    "anio21.to_csv(\"datasetBrutoAño/dataset2021.csv\",index=False)\n",
    "anio22.to_csv(\"datasetBrutoAño/dataset2022.csv\",index=False)\n",
    "anio23.to_csv(\"datasetBrutoAño/dataset2023.csv\",index=False)"
   ]
  },
  {
   "cell_type": "code",
   "execution_count": null,
   "metadata": {},
   "outputs": [],
   "source": [
    "#cargar dataset csv con los delitos del año 2020\n",
    "df20 = pd.read_csv(\"datasetBrutoAño/dataset2020.csv\")\n",
    "#la funcion unique() sirve para sacar los valores de forma que estos no sea repetidos \n",
    "nombre_delitos_20 = df20[\"DELITO\"].unique()\n",
    "nombre_delitos_totales_20 = dataset[\"DELITO\"].unique()\n",
    "nombre_departamento_20 = df20[\"DEPARTAMENTO_HECHO\"].unique()\n",
    "anio20 = df20[\"AÑO_HECHOS\"].unique()\n",
    "#crear un directorio para guardar los departamentos\n",
    "data20 ={\"DEPARTAMENTO_HECHO\":nombre_departamento_20}\n",
    "#crear dataframe \n",
    "dfNew20 = pd.DataFrame(data20)\n",
    "dfNew20[\"AÑO_HECHOS\"] = anio20[0]\n",
    "#en este caso sort_values es para ordenar de forma alfabetica\n",
    "dfNew20 = dfNew20.sort_values(by=\"DEPARTAMENTO_HECHO\")\n",
    "for index in nombre_delitos_totales_20:\n",
    "    dfNew20[index] = 0\n",
    "\n",
    "dfNew20\n"
   ]
  },
  {
   "cell_type": "code",
   "execution_count": null,
   "metadata": {},
   "outputs": [],
   "source": [
    "#cargar dataset csv con los delitos del año 2021\n",
    "df21 = pd.read_csv(\"datasetBrutoAño/dataset2021.csv\")\n",
    "#la funcion unique() sirve para sacar los valores de forma que estos no sea repetidos \n",
    "nombre_delitos_21 = df21[\"DELITO\"].unique()\n",
    "nombre_delitos_totales_21 = dataset[\"DELITO\"].unique()\n",
    "nombre_departamento_21 = df21[\"DEPARTAMENTO_HECHO\"].unique()\n",
    "anio21 = df21[\"AÑO_HECHOS\"].unique()\n",
    "#crear un directorio para guardar los departamentos\n",
    "data21 ={\"DEPARTAMENTO_HECHO\":nombre_departamento_21}\n",
    "#crear dataframe \n",
    "dfNew21 = pd.DataFrame(data21)\n",
    "dfNew21[\"AÑO_HECHOS\"] = anio21[0]\n",
    "#en este caso sort_values es para ordenar de forma alfabetica\n",
    "dfNew21 = dfNew21.sort_values(by=\"DEPARTAMENTO_HECHO\")\n",
    "for index in nombre_delitos_totales_21:\n",
    "    dfNew21[index] = 0\n",
    "\n",
    "dfNew21"
   ]
  },
  {
   "cell_type": "code",
   "execution_count": null,
   "metadata": {},
   "outputs": [],
   "source": [
    "#cargar dataset csv con los delitos del año 2022\n",
    "df22 = pd.read_csv(\"datasetBrutoAño/dataset2022.csv\")\n",
    "#la funcion unique() sirve para sacar los valores de forma que estos no sea repetidos \n",
    "nombre_delitos_22 = df22[\"DELITO\"].unique()\n",
    "nombre_delitos_totales_22 = dataset[\"DELITO\"].unique()\n",
    "nombre_departamento_22 = df22[\"DEPARTAMENTO_HECHO\"].unique()\n",
    "anio22 = df22[\"AÑO_HECHOS\"].unique()\n",
    "#crear un directorio para guardar los departamentos\n",
    "data22 ={\"DEPARTAMENTO_HECHO\":nombre_departamento_22}\n",
    "#crear dataframe \n",
    "dfNew22 = pd.DataFrame(data22)\n",
    "dfNew22[\"AÑO_HECHOS\"] = anio22[0]\n",
    "#en este caso sort_values es para ordenar de forma alfabetica\n",
    "dfNew22 = dfNew22.sort_values(by=\"DEPARTAMENTO_HECHO\")\n",
    "for index in nombre_delitos_totales_22:\n",
    "    dfNew22[index] = 0\n",
    "\n",
    "dfNew22"
   ]
  },
  {
   "cell_type": "code",
   "execution_count": null,
   "metadata": {},
   "outputs": [],
   "source": [
    "#cargar dataset csv con los delitos del año 2023\n",
    "df23 = pd.read_csv(\"datasetBrutoAño/dataset2023.csv\")\n",
    "#la funcion unique() sirve para sacar los valores de forma que estos no sea repetidos \n",
    "nombre_delitos_23 = df23[\"DELITO\"].unique()\n",
    "nombre_delitos_totales_23 = dataset[\"DELITO\"].unique()\n",
    "nombre_departamento_23 = df23[\"DEPARTAMENTO_HECHO\"].unique()\n",
    "anio23 = df23[\"AÑO_HECHOS\"].unique()\n",
    "#crear un directorio para guardar los departamentos\n",
    "data23 ={\"DEPARTAMENTO_HECHO\":nombre_departamento_23}\n",
    "#crear dataframe \n",
    "dfNew23 = pd.DataFrame(data23)\n",
    "dfNew23[\"AÑO_HECHOS\"] = anio23[0]\n",
    "#en este caso sort_values es para ordenar de forma alfabetica\n",
    "dfNew23 = dfNew23.sort_values(by=\"DEPARTAMENTO_HECHO\")\n",
    "for index in nombre_delitos_totales_23:\n",
    "    dfNew23[index] = 0\n",
    "\n",
    "dfNew23"
   ]
  },
  {
   "cell_type": "code",
   "execution_count": null,
   "metadata": {},
   "outputs": [],
   "source": [
    "for indexI,departamento in enumerate(dfNew20[\"DEPARTAMENTO_HECHO\"]):\n",
    "    for indexJ,delitos in enumerate(dfNew20.columns):\n",
    "        for indexData,(departamentoData ,delitosData ,Prosecos) in enumerate(zip(df20[\"DEPARTAMENTO_HECHO\"],df20[\"DELITO\"],df20[\"TOTAL_PROCESOS\"])):\n",
    "           if (departamento == departamentoData and delitos == delitosData):\n",
    "               dfNew20.iloc[indexI,indexJ]+=Prosecos\n",
    "dfNew20.to_csv(\"datasetFinal/delitosInformaticosDefinitivo2020.csv\", index=False)\n",
    "dfNew20"
   ]
  },
  {
   "cell_type": "code",
   "execution_count": null,
   "metadata": {},
   "outputs": [],
   "source": [
    "for indexI,departamento in enumerate(dfNew21[\"DEPARTAMENTO_HECHO\"]):\n",
    "    for indexJ,delitos in enumerate(dfNew21.columns):\n",
    "        for departamentoData ,delitosData ,Prosecos in zip(df21[\"DEPARTAMENTO_HECHO\"],df21[\"DELITO\"],df21[\"TOTAL_PROCESOS\"]):\n",
    "           if (departamento == departamentoData and delitos == delitosData):\n",
    "               dfNew21.iloc[indexI,indexJ]+=Prosecos\n",
    "dfNew21.to_csv(\"datasetFinal/delitosInformaticosDefinitivo2021.csv\", index=False)\n",
    "dfNew21"
   ]
  },
  {
   "cell_type": "code",
   "execution_count": null,
   "metadata": {},
   "outputs": [],
   "source": [
    "for indexI,departamento in enumerate(dfNew22[\"DEPARTAMENTO_HECHO\"]):\n",
    "    for indexJ,delitos in enumerate(dfNew22.columns):\n",
    "        for departamentoData ,delitosData ,Prosecos in zip(df22[\"DEPARTAMENTO_HECHO\"],df22[\"DELITO\"],df22[\"TOTAL_PROCESOS\"]):\n",
    "           if (departamento == departamentoData and delitos == delitosData):\n",
    "               dfNew22.iloc[indexI,indexJ]+=Prosecos\n",
    "dfNew22.to_csv(\"datasetFinal/delitosInformaticosDefinitivo2022.csv\", index=False)\n",
    "dfNew22"
   ]
  },
  {
   "cell_type": "code",
   "execution_count": null,
   "metadata": {},
   "outputs": [],
   "source": [
    "for indexI,departamento in enumerate(dfNew23[\"DEPARTAMENTO_HECHO\"]):\n",
    "    for indexJ,delitos in enumerate(dfNew23.columns):\n",
    "        for departamentoData ,delitosData ,Prosecos in zip(df23[\"DEPARTAMENTO_HECHO\"],df23[\"DELITO\"],df23[\"TOTAL_PROCESOS\"]):\n",
    "           if (departamento == departamentoData and delitos == delitosData):\n",
    "               dfNew23.iloc[indexI,indexJ]+=Prosecos\n",
    "dfNew23.to_csv(\"datasetFinal/delitosInformaticosDefinitivo2023.csv\", index=False)\n",
    "dfNew23"
   ]
  }
 ],
 "metadata": {
  "kernelspec": {
   "display_name": ".venv",
   "language": "python",
   "name": "python3"
  },
  "language_info": {
   "codemirror_mode": {
    "name": "ipython",
    "version": 3
   },
   "file_extension": ".py",
   "mimetype": "text/x-python",
   "name": "python",
   "nbconvert_exporter": "python",
   "pygments_lexer": "ipython3",
   "version": "3.12.3"
  }
 },
 "nbformat": 4,
 "nbformat_minor": 2
}
